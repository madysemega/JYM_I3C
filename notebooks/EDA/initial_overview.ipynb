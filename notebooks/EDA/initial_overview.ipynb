{
 "cells": [
  {
   "cell_type": "code",
   "execution_count": 1,
   "metadata": {},
   "outputs": [
    {
     "name": "stderr",
     "output_type": "stream",
     "text": [
      "/usr/lib/python3/dist-packages/scipy/__init__.py:146: UserWarning: A NumPy version >=1.17.3 and <1.25.0 is required for this version of SciPy (detected version 1.25.2\n",
      "  warnings.warn(f\"A NumPy version >={np_minversion} and <{np_maxversion}\"\n"
     ]
    },
    {
     "data": {
      "text/html": [
       "<div>\n",
       "<style scoped>\n",
       "    .dataframe tbody tr th:only-of-type {\n",
       "        vertical-align: middle;\n",
       "    }\n",
       "\n",
       "    .dataframe tbody tr th {\n",
       "        vertical-align: top;\n",
       "    }\n",
       "\n",
       "    .dataframe thead th {\n",
       "        text-align: right;\n",
       "    }\n",
       "</style>\n",
       "<table border=\"1\" class=\"dataframe\">\n",
       "  <thead>\n",
       "    <tr style=\"text-align: right;\">\n",
       "      <th></th>\n",
       "      <th>period_begin</th>\n",
       "      <th>occupancy</th>\n",
       "      <th>age_median</th>\n",
       "      <th>airport_distance</th>\n",
       "      <th>airport_volume</th>\n",
       "      <th>railroad_distance</th>\n",
       "      <th>asset_value_momentum</th>\n",
       "      <th>rank_desirability</th>\n",
       "      <th>rank_fiscal_health_tax</th>\n",
       "      <th>CPI</th>\n",
       "      <th>...</th>\n",
       "      <th>Male_15_64</th>\n",
       "      <th>Female_15_64</th>\n",
       "      <th>Prop_further_educ</th>\n",
       "      <th>Pop_growth</th>\n",
       "      <th>Real_GDP_growth</th>\n",
       "      <th>Unemp_growth</th>\n",
       "      <th>remote_work_share</th>\n",
       "      <th>State</th>\n",
       "      <th>City</th>\n",
       "      <th>Property_Type</th>\n",
       "    </tr>\n",
       "  </thead>\n",
       "  <tbody>\n",
       "    <tr>\n",
       "      <th>0</th>\n",
       "      <td>2019-01-31</td>\n",
       "      <td>0.870596</td>\n",
       "      <td>34.561672</td>\n",
       "      <td>11.249427</td>\n",
       "      <td>134233128.0</td>\n",
       "      <td>1.682482</td>\n",
       "      <td>0.020171</td>\n",
       "      <td>49.0</td>\n",
       "      <td>31.0</td>\n",
       "      <td>114.42</td>\n",
       "      <td>...</td>\n",
       "      <td>0.84</td>\n",
       "      <td>0.88</td>\n",
       "      <td>61.96</td>\n",
       "      <td>1.07</td>\n",
       "      <td>2.67</td>\n",
       "      <td>-6.25</td>\n",
       "      <td>5.86</td>\n",
       "      <td>IN</td>\n",
       "      <td>Indianapolis</td>\n",
       "      <td>Office</td>\n",
       "    </tr>\n",
       "    <tr>\n",
       "      <th>1</th>\n",
       "      <td>2019-02-28</td>\n",
       "      <td>0.875000</td>\n",
       "      <td>34.561672</td>\n",
       "      <td>11.249427</td>\n",
       "      <td>134233128.0</td>\n",
       "      <td>1.682482</td>\n",
       "      <td>0.020171</td>\n",
       "      <td>49.0</td>\n",
       "      <td>47.0</td>\n",
       "      <td>114.42</td>\n",
       "      <td>...</td>\n",
       "      <td>0.84</td>\n",
       "      <td>0.88</td>\n",
       "      <td>61.96</td>\n",
       "      <td>1.07</td>\n",
       "      <td>2.67</td>\n",
       "      <td>-6.25</td>\n",
       "      <td>5.72</td>\n",
       "      <td>IN</td>\n",
       "      <td>Indianapolis</td>\n",
       "      <td>Office</td>\n",
       "    </tr>\n",
       "    <tr>\n",
       "      <th>2</th>\n",
       "      <td>2019-03-31</td>\n",
       "      <td>0.875000</td>\n",
       "      <td>34.561672</td>\n",
       "      <td>11.246551</td>\n",
       "      <td>134233128.0</td>\n",
       "      <td>1.680030</td>\n",
       "      <td>0.020171</td>\n",
       "      <td>49.0</td>\n",
       "      <td>47.0</td>\n",
       "      <td>114.42</td>\n",
       "      <td>...</td>\n",
       "      <td>0.84</td>\n",
       "      <td>0.88</td>\n",
       "      <td>61.96</td>\n",
       "      <td>1.07</td>\n",
       "      <td>2.67</td>\n",
       "      <td>-6.25</td>\n",
       "      <td>4.09</td>\n",
       "      <td>IN</td>\n",
       "      <td>Indianapolis</td>\n",
       "      <td>Office</td>\n",
       "    </tr>\n",
       "    <tr>\n",
       "      <th>3</th>\n",
       "      <td>2019-04-30</td>\n",
       "      <td>0.875000</td>\n",
       "      <td>34.561672</td>\n",
       "      <td>11.246551</td>\n",
       "      <td>134233128.0</td>\n",
       "      <td>1.680030</td>\n",
       "      <td>0.021114</td>\n",
       "      <td>49.0</td>\n",
       "      <td>47.0</td>\n",
       "      <td>114.42</td>\n",
       "      <td>...</td>\n",
       "      <td>0.84</td>\n",
       "      <td>0.88</td>\n",
       "      <td>61.96</td>\n",
       "      <td>1.07</td>\n",
       "      <td>2.67</td>\n",
       "      <td>-6.25</td>\n",
       "      <td>4.98</td>\n",
       "      <td>IN</td>\n",
       "      <td>Indianapolis</td>\n",
       "      <td>Office</td>\n",
       "    </tr>\n",
       "    <tr>\n",
       "      <th>4</th>\n",
       "      <td>2019-05-31</td>\n",
       "      <td>0.875000</td>\n",
       "      <td>34.561672</td>\n",
       "      <td>11.246551</td>\n",
       "      <td>134233128.0</td>\n",
       "      <td>1.680030</td>\n",
       "      <td>0.021114</td>\n",
       "      <td>49.0</td>\n",
       "      <td>47.0</td>\n",
       "      <td>114.42</td>\n",
       "      <td>...</td>\n",
       "      <td>0.84</td>\n",
       "      <td>0.88</td>\n",
       "      <td>61.96</td>\n",
       "      <td>1.07</td>\n",
       "      <td>2.67</td>\n",
       "      <td>-6.25</td>\n",
       "      <td>4.93</td>\n",
       "      <td>IN</td>\n",
       "      <td>Indianapolis</td>\n",
       "      <td>Office</td>\n",
       "    </tr>\n",
       "  </tbody>\n",
       "</table>\n",
       "<p>5 rows × 31 columns</p>\n",
       "</div>"
      ],
      "text/plain": [
       "  period_begin  occupancy  age_median  airport_distance  airport_volume  \\\n",
       "0   2019-01-31   0.870596   34.561672         11.249427     134233128.0   \n",
       "1   2019-02-28   0.875000   34.561672         11.249427     134233128.0   \n",
       "2   2019-03-31   0.875000   34.561672         11.246551     134233128.0   \n",
       "3   2019-04-30   0.875000   34.561672         11.246551     134233128.0   \n",
       "4   2019-05-31   0.875000   34.561672         11.246551     134233128.0   \n",
       "\n",
       "   railroad_distance  asset_value_momentum  rank_desirability  \\\n",
       "0           1.682482              0.020171               49.0   \n",
       "1           1.682482              0.020171               49.0   \n",
       "2           1.680030              0.020171               49.0   \n",
       "3           1.680030              0.021114               49.0   \n",
       "4           1.680030              0.021114               49.0   \n",
       "\n",
       "   rank_fiscal_health_tax     CPI  ...  Male_15_64  Female_15_64  \\\n",
       "0                    31.0  114.42  ...        0.84          0.88   \n",
       "1                    47.0  114.42  ...        0.84          0.88   \n",
       "2                    47.0  114.42  ...        0.84          0.88   \n",
       "3                    47.0  114.42  ...        0.84          0.88   \n",
       "4                    47.0  114.42  ...        0.84          0.88   \n",
       "\n",
       "   Prop_further_educ  Pop_growth  Real_GDP_growth  Unemp_growth  \\\n",
       "0              61.96        1.07             2.67         -6.25   \n",
       "1              61.96        1.07             2.67         -6.25   \n",
       "2              61.96        1.07             2.67         -6.25   \n",
       "3              61.96        1.07             2.67         -6.25   \n",
       "4              61.96        1.07             2.67         -6.25   \n",
       "\n",
       "   remote_work_share  State          City  Property_Type  \n",
       "0               5.86     IN  Indianapolis         Office  \n",
       "1               5.72     IN  Indianapolis         Office  \n",
       "2               4.09     IN  Indianapolis         Office  \n",
       "3               4.98     IN  Indianapolis         Office  \n",
       "4               4.93     IN  Indianapolis         Office  \n",
       "\n",
       "[5 rows x 31 columns]"
      ]
     },
     "execution_count": 1,
     "metadata": {},
     "output_type": "execute_result"
    }
   ],
   "source": [
    "import pandas as pd\n",
    "import matplotlib.pyplot as plt\n",
    "import seaborn as sns\n",
    "\n",
    "from src.preprocessing.housing_data import HousingData  # Assuming the class is in housing_data.py\n",
    "\n",
    "# Initialize the HousingData class\n",
    "housing_data = HousingData('housing')  # Update the path\n",
    "\n",
    "# Load the commercial property data\n",
    "commercial_data = housing_data.load_data(is_commercial=True)\n",
    "\n",
    "# Display the first few rows of the DataFrame\n",
    "commercial_data.head()\n"
   ]
  },
  {
   "cell_type": "code",
   "execution_count": 2,
   "metadata": {},
   "outputs": [
    {
     "data": {
      "text/html": [
       "<div>\n",
       "<style scoped>\n",
       "    .dataframe tbody tr th:only-of-type {\n",
       "        vertical-align: middle;\n",
       "    }\n",
       "\n",
       "    .dataframe tbody tr th {\n",
       "        vertical-align: top;\n",
       "    }\n",
       "\n",
       "    .dataframe thead th {\n",
       "        text-align: right;\n",
       "    }\n",
       "</style>\n",
       "<table border=\"1\" class=\"dataframe\">\n",
       "  <thead>\n",
       "    <tr style=\"text-align: right;\">\n",
       "      <th></th>\n",
       "      <th>Missing Values</th>\n",
       "      <th>Percentage</th>\n",
       "    </tr>\n",
       "  </thead>\n",
       "  <tbody>\n",
       "    <tr>\n",
       "      <th>remote_work_share</th>\n",
       "      <td>165</td>\n",
       "      <td>2.110244</td>\n",
       "    </tr>\n",
       "  </tbody>\n",
       "</table>\n",
       "</div>"
      ],
      "text/plain": [
       "                   Missing Values  Percentage\n",
       "remote_work_share             165    2.110244"
      ]
     },
     "execution_count": 2,
     "metadata": {},
     "output_type": "execute_result"
    }
   ],
   "source": [
    "# Calculate the number of missing values in each column\n",
    "missing_values = commercial_data.isnull().sum()\n",
    "\n",
    "# Calculate the percentage of missing values\n",
    "missing_percentage = (commercial_data.isnull().sum() / len(commercial_data)) * 100\n",
    "\n",
    "# Combine the counts and percentages into a DataFrame\n",
    "missing_data_df = pd.DataFrame({'Missing Values': missing_values, 'Percentage': missing_percentage})\n",
    "\n",
    "# Display columns with missing values, if any\n",
    "missing_data_df[missing_data_df['Missing Values'] > 0]\n"
   ]
  },
  {
   "cell_type": "code",
   "execution_count": 3,
   "metadata": {},
   "outputs": [
    {
     "data": {
      "image/png": "[encoded data removed]",
      "text/plain": [
       "<Figure size 864x432 with 1 Axes>"
      ]
     },
     "metadata": {
      "needs_background": "light"
     },
     "output_type": "display_data"
    }
   ],
   "source": [
    "# Visualize missing values as a heatmap\n",
    "plt.figure(figsize=(12, 6))\n",
    "sns.heatmap(commercial_data.isnull(), cbar=False, cmap='viridis')\n",
    "plt.title('Missing Data Heatmap')\n",
    "plt.show()\n"
   ]
  },
  {
   "cell_type": "code",
   "execution_count": 12,
   "metadata": {},
   "outputs": [],
   "source": [
    "import numpy as np\n",
    "\n",
    "def analyze_target_variables(df, exclude_city_for_remote_work):\n",
    "    # Define the target variables\n",
    "    target_variables = ['asset_value_momentum', 'rank_desirability', 'remote_work_share', 'occupancy']\n",
    "\n",
    "    # Loop through each target variable and perform analysis\n",
    "    for var in target_variables:\n",
    "        print(f\"\\nAnalyzing: {var}\")\n",
    "\n",
    "        # Exclude specific city for 'remote_work_share'\n",
    "        if var == 'remote_work_share':\n",
    "            df_filtered = df[df['City'] != exclude_city_for_remote_work]\n",
    "        else:\n",
    "            df_filtered = df\n",
    "\n",
    "        # Summary Statistics\n",
    "        print(\"\\nSummary Statistics:\")\n",
    "        print(df_filtered[var].describe())\n",
    "\n",
    "        # Histogram\n",
    "        plt.figure()\n",
    "        df_filtered[var].hist(bins=30)\n",
    "        plt.xlabel(var)\n",
    "        plt.ylabel('Frequency')\n",
    "        plt.title(f'Histogram of {var}')\n",
    "        plt.show()\n",
    "\n",
    "        # Box Plot\n",
    "        plt.figure()\n",
    "        sns.boxplot(x=df_filtered[var])\n",
    "        plt.title(f'Box Plot of {var}')\n",
    "        plt.show()\n",
    "\n",
    "        # Line Plot\n",
    "        plt.figure()\n",
    "        df_filtered.groupby('period_begin')[var].mean().plot()\n",
    "        plt.xlabel('Time')\n",
    "        plt.ylabel(var)\n",
    "        plt.title(f'Time Series Line Plot of {var}')\n",
    "        plt.show()\n"
   ]
  },
  {
   "cell_type": "code",
   "execution_count": 13,
   "metadata": {},
   "outputs": [
    {
     "name": "stdout",
     "output_type": "stream",
     "text": [
      "\n",
      "Analyzing: asset_value_momentum\n",
      "\n",
      "Summary Statistics:\n",
      "count    7819.000000\n",
      "mean        0.021472\n",
      "std         0.166243\n",
      "min        -0.515672\n",
      "25%        -0.082763\n",
      "50%         0.007871\n",
      "75%         0.086717\n",
      "max         0.589325\n",
      "Name: asset_value_momentum, dtype: float64\n"
     ]
    },
    {
     "data": {
      "image/png": "[encoded data removed]",
      "text/plain": [
       "<Figure size 432x288 with 1 Axes>"
      ]
     },
     "metadata": {
      "needs_background": "light"
     },
     "output_type": "display_data"
    },
    {
     "data": {
      "image/png": "[encoded data removed]",
      "text/plain": [
       "<Figure size 432x288 with 1 Axes>"
      ]
     },
     "metadata": {
      "needs_background": "light"
     },
     "output_type": "display_data"
    },
    {
     "data": {
      "image/png": "[encoded data removed]",
      "text/plain": [
       "<Figure size 432x288 with 1 Axes>"
      ]
     },
     "metadata": {
      "needs_background": "light"
     },
     "output_type": "display_data"
    },
    {
     "name": "stdout",
     "output_type": "stream",
     "text": [
      "\n",
      "Analyzing: rank_desirability\n",
      "\n",
      "Summary Statistics:\n",
      "count    7819.000000\n",
      "mean       24.606599\n",
      "std        14.422604\n",
      "min         1.000000\n",
      "25%        12.000000\n",
      "50%        24.000000\n",
      "75%        37.000000\n",
      "max        56.000000\n",
      "Name: rank_desirability, dtype: float64\n"
     ]
    },
    {
     "data": {
      "image/png": "[encoded data removed]",
      "text/plain": [
       "<Figure size 432x288 with 1 Axes>"
      ]
     },
     "metadata": {
      "needs_background": "light"
     },
     "output_type": "display_data"
    },
    {
     "data": {
      "image/png": "[encoded data removed]",
      "text/plain": [
       "<Figure size 432x288 with 1 Axes>"
      ]
     },
     "metadata": {
      "needs_background": "light"
     },
     "output_type": "display_data"
    },
    {
     "data": {
      "image/png": "[encoded data removed]",
      "text/plain": [
       "<Figure size 432x288 with 1 Axes>"
      ]
     },
     "metadata": {
      "needs_background": "light"
     },
     "output_type": "display_data"
    },
    {
     "name": "stdout",
     "output_type": "stream",
     "text": [
      "\n",
      "Analyzing: remote_work_share\n",
      "\n",
      "Summary Statistics:\n",
      "count    7483.000000\n",
      "mean       10.713571\n",
      "std         5.415361\n",
      "min         0.240000\n",
      "25%         5.700000\n",
      "50%        10.660000\n",
      "75%        14.345000\n",
      "max        31.940000\n",
      "Name: remote_work_share, dtype: float64\n"
     ]
    },
    {
     "data": {
      "image/png": "[encoded data removed]",
      "text/plain": [
       "<Figure size 432x288 with 1 Axes>"
      ]
     },
     "metadata": {
      "needs_background": "light"
     },
     "output_type": "display_data"
    },
    {
     "data": {
      "image/png": "[encoded data removed]",
      "text/plain": [
       "<Figure size 432x288 with 1 Axes>"
      ]
     },
     "metadata": {
      "needs_background": "light"
     },
     "output_type": "display_data"
    },
    {
     "data": {
      "image/png": "[encoded data removed]",
      "text/plain": [
       "<Figure size 432x288 with 1 Axes>"
      ]
     },
     "metadata": {
      "needs_background": "light"
     },
     "output_type": "display_data"
    },
    {
     "name": "stdout",
     "output_type": "stream",
     "text": [
      "\n",
      "Analyzing: occupancy\n",
      "\n",
      "Summary Statistics:\n",
      "count    7819.000000\n",
      "mean        0.904397\n",
      "std         0.040724\n",
      "min         0.738000\n",
      "25%         0.880000\n",
      "50%         0.909729\n",
      "75%         0.934000\n",
      "max         0.988651\n",
      "Name: occupancy, dtype: float64\n"
     ]
    },
    {
     "data": {
      "image/png": "[encoded data removed]",
      "text/plain": [
       "<Figure size 432x288 with 1 Axes>"
      ]
     },
     "metadata": {
      "needs_background": "light"
     },
     "output_type": "display_data"
    },
    {
     "data": {
      "image/png": "[encoded data removed]",
      "text/plain": [
       "<Figure size 432x288 with 1 Axes>"
      ]
     },
     "metadata": {
      "needs_background": "light"
     },
     "output_type": "display_data"
    },
    {
     "data": {
      "image/png": "[encoded data removed]",
      "text/plain": [
       "<Figure size 432x288 with 1 Axes>"
      ]
     },
     "metadata": {
      "needs_background": "light"
     },
     "output_type": "display_data"
    }
   ],
   "source": [
    "analyze_target_variables(commercial_data, 'Jersey City')\n"
   ]
  },
  {
   "cell_type": "markdown",
   "metadata": {},
   "source": [
    "### Élan de la Valeur des Actifs\n",
    "- L'`élan de la valeur des actifs` a une moyenne proche de zéro et une distribution légèrement asymétrique à droite, indiquant qu'il y a plus de cas de momentum légèrement positif dans les valeurs d'actifs.\n",
    "- L'écart-type est relativement important par rapport à la moyenne, suggérant une grande variabilité du momentum.\n",
    "- L'histogramme montre une distribution en forme de cloche avec une queue s'étendant vers les valeurs plus élevées, ce qui est confirmé par le diagramme en boîte qui montre plusieurs outliers à l'extrémité supérieure.\n",
    "- Le graphique linéaire des séries temporelles indique une certaine volatilité dans le temps, avec un pic notable autour du début de 2022, suivi d'un déclin rapide.\n",
    "\n",
    "### Classement de Désirabilité\n",
    "- La variable `classement de désirabilité` semble être uniformément distribuée, ce qui est évident à partir de l'histogramme plat et des statistiques résumées montrant une moyenne approximativement au milieu de la plage min-max.\n",
    "- L'écart-type est modéré, suggérant une variabilité mais avec une diffusion constante à travers les rangs.\n",
    "- Le graphique linéaire des séries temporelles montre une stabilité relative du rang de désirabilité dans le temps, avec de légères fluctuations, indiquant que le rang de désirabilité ne change pas drastiquement sur la période observée.\n",
    "\n",
    "### Part du Télétravail (Excluant Jersey City)\n",
    "- La `part du télétravail` affiche une moyenne d'environ 10,71, avec un écart-type suggérant qu'il y a une dispersion modérée autour de la moyenne.\n",
    "- L'histogramme pour la part du télétravail indique une distribution qui est quelque peu normale mais avec une asymétrie à droite, montrant qu'il y a des villes avec des pourcentages de télétravail inhabituellement élevés.\n",
    "- Le graphique linéaire des séries temporelles montre une tendance croissante de la part du télétravail dans le temps, ce qui pourrait indiquer un virage vers plus de télétravail ces dernières années. Ceci est particulièrement évident à partir de 2020, reflétant probablement l'impact de la pandémie de COVID-19.\n",
    "\n",
    "### Taux d'Occupation\n",
    "- Le taux d'`occupation` a une moyenne élevée d'environ 0,90, suggérant qu'en moyenne, les propriétés commerciales ont un taux d'occupation élevé.\n",
    "- La distribution des taux d'occupation est asymétrique à gauche avec une concentration de valeurs plus proches de l'extrémité supérieure de la plage, comme le montre l'histogramme.\n",
    "- Le diagramme en boîte confirme l'asymétrie à gauche avec quelques outliers à l'extrémité inférieure, indiquant certaines propriétés avec des taux d'occupation significativement plus bas.\n",
    "- Le graphique linéaire montre quelques fluctuations dans le temps avec une augmentation marquée des taux d'occupation à la fin de la période observée.\n",
    "\n",
    "### Observations Générales et Implications\n",
    "- Le récent déclin de l'élan de la valeur des actifs pourrait être un point de préoccupation ou d'intérêt, justifiant éventuellement une enquête plus approfondie sur les causes de cette baisse.\n",
    "- La stabilité du classement de désirabilité suggère que la désirabilité des emplacements pour les propriétés commerciales reste relativement constante, ce qui pourrait impliquer un marché stable en termes de préférence de localisation.\n",
    "- L'augmentation de la part du télétravail pourrait avoir des implications importantes pour la demande de propriétés commerciales et les valeurs d'actifs. Il serait important de suivre si la tendance croissante se poursuit après la pandémie.\n",
    "- Les taux d'occupation généralement élevés sont un signe positif pour le marché immobilier commercial, mais une attention particulière devrait être accordée aux outliers avec une faible occupation pour comprendre s'ils représentent un type particulier de propriété ou un emplacement sous-performant.\n",
    "\n",
    "Cette EDA initiale fournit des aperçus précieux et soulève des questions pour une analyse plus approfondie. Il serait prudent de continuer à surveiller ces tendances et de se pencher davantage sur les facteurs qui entraînent les changements, en particulier pour l'élan de la valeur des actifs et les tendances du télétravail, car ceux-ci peuvent avoir des implications significatives pour les futurs investissements et développements immobiliers commerciaux."
   ]
  },
  {
   "cell_type": "code",
   "execution_count": 44,
   "metadata": {},
   "outputs": [
    {
     "data": {
      "text/html": [
       "<div>\n",
       "<style scoped>\n",
       "    .dataframe tbody tr th:only-of-type {\n",
       "        vertical-align: middle;\n",
       "    }\n",
       "\n",
       "    .dataframe tbody tr th {\n",
       "        vertical-align: top;\n",
       "    }\n",
       "\n",
       "    .dataframe thead th {\n",
       "        text-align: right;\n",
       "    }\n",
       "</style>\n",
       "<table border=\"1\" class=\"dataframe\">\n",
       "  <thead>\n",
       "    <tr style=\"text-align: right;\">\n",
       "      <th></th>\n",
       "      <th>period_begin</th>\n",
       "      <th>median_sale_price</th>\n",
       "      <th>median_list_price</th>\n",
       "      <th>median_ppsf</th>\n",
       "      <th>median_list_ppsf</th>\n",
       "      <th>homes_sold</th>\n",
       "      <th>pending_sales</th>\n",
       "      <th>new_listings</th>\n",
       "      <th>inventory</th>\n",
       "      <th>months_of_supply</th>\n",
       "      <th>median_dom</th>\n",
       "      <th>avg_sale_to_list</th>\n",
       "      <th>sold_above_list</th>\n",
       "      <th>price_drops</th>\n",
       "      <th>off_market_in_two_weeks</th>\n",
       "      <th>remote_work_share</th>\n",
       "      <th>asset_value_momentum</th>\n",
       "      <th>State</th>\n",
       "      <th>City</th>\n",
       "      <th>Property_Type</th>\n",
       "    </tr>\n",
       "  </thead>\n",
       "  <tbody>\n",
       "    <tr>\n",
       "      <th>0</th>\n",
       "      <td>2019-01-31</td>\n",
       "      <td>235325.00</td>\n",
       "      <td>219900.0</td>\n",
       "      <td>110.096646</td>\n",
       "      <td>151.237964</td>\n",
       "      <td>1.5</td>\n",
       "      <td>2.0</td>\n",
       "      <td>3.0</td>\n",
       "      <td>8.5</td>\n",
       "      <td>6.25</td>\n",
       "      <td>82.0</td>\n",
       "      <td>0.997393</td>\n",
       "      <td>0.000000</td>\n",
       "      <td>0.291667</td>\n",
       "      <td>0.000000</td>\n",
       "      <td>0.00</td>\n",
       "      <td>0.000000</td>\n",
       "      <td>WV</td>\n",
       "      <td>Morgantown</td>\n",
       "      <td>Single Family Residential</td>\n",
       "    </tr>\n",
       "    <tr>\n",
       "      <th>1</th>\n",
       "      <td>2019-02-28</td>\n",
       "      <td>93318.75</td>\n",
       "      <td>201175.0</td>\n",
       "      <td>76.666452</td>\n",
       "      <td>87.459703</td>\n",
       "      <td>2.5</td>\n",
       "      <td>2.0</td>\n",
       "      <td>5.5</td>\n",
       "      <td>11.0</td>\n",
       "      <td>4.50</td>\n",
       "      <td>34.0</td>\n",
       "      <td>0.954067</td>\n",
       "      <td>0.000000</td>\n",
       "      <td>0.091667</td>\n",
       "      <td>0.833333</td>\n",
       "      <td>0.47</td>\n",
       "      <td>-0.303644</td>\n",
       "      <td>WV</td>\n",
       "      <td>Morgantown</td>\n",
       "      <td>Single Family Residential</td>\n",
       "    </tr>\n",
       "    <tr>\n",
       "      <th>2</th>\n",
       "      <td>2019-03-31</td>\n",
       "      <td>229050.00</td>\n",
       "      <td>233550.0</td>\n",
       "      <td>105.365398</td>\n",
       "      <td>107.310756</td>\n",
       "      <td>2.5</td>\n",
       "      <td>3.0</td>\n",
       "      <td>5.0</td>\n",
       "      <td>11.5</td>\n",
       "      <td>5.10</td>\n",
       "      <td>71.0</td>\n",
       "      <td>0.990710</td>\n",
       "      <td>0.666667</td>\n",
       "      <td>0.195833</td>\n",
       "      <td>0.500000</td>\n",
       "      <td>0.86</td>\n",
       "      <td>0.374335</td>\n",
       "      <td>WV</td>\n",
       "      <td>Morgantown</td>\n",
       "      <td>Single Family Residential</td>\n",
       "    </tr>\n",
       "    <tr>\n",
       "      <th>3</th>\n",
       "      <td>2019-04-30</td>\n",
       "      <td>238625.00</td>\n",
       "      <td>280950.0</td>\n",
       "      <td>126.764886</td>\n",
       "      <td>111.629672</td>\n",
       "      <td>2.5</td>\n",
       "      <td>4.0</td>\n",
       "      <td>7.0</td>\n",
       "      <td>13.0</td>\n",
       "      <td>5.35</td>\n",
       "      <td>75.0</td>\n",
       "      <td>0.974234</td>\n",
       "      <td>0.000000</td>\n",
       "      <td>0.392857</td>\n",
       "      <td>0.533333</td>\n",
       "      <td>1.09</td>\n",
       "      <td>0.203098</td>\n",
       "      <td>WV</td>\n",
       "      <td>Morgantown</td>\n",
       "      <td>Single Family Residential</td>\n",
       "    </tr>\n",
       "    <tr>\n",
       "      <th>4</th>\n",
       "      <td>2019-05-31</td>\n",
       "      <td>292200.00</td>\n",
       "      <td>272497.5</td>\n",
       "      <td>100.634255</td>\n",
       "      <td>114.556379</td>\n",
       "      <td>5.0</td>\n",
       "      <td>3.0</td>\n",
       "      <td>5.0</td>\n",
       "      <td>13.0</td>\n",
       "      <td>2.75</td>\n",
       "      <td>74.5</td>\n",
       "      <td>0.976480</td>\n",
       "      <td>0.333333</td>\n",
       "      <td>0.422619</td>\n",
       "      <td>0.166667</td>\n",
       "      <td>1.13</td>\n",
       "      <td>-0.206135</td>\n",
       "      <td>WV</td>\n",
       "      <td>Morgantown</td>\n",
       "      <td>Single Family Residential</td>\n",
       "    </tr>\n",
       "  </tbody>\n",
       "</table>\n",
       "</div>"
      ],
      "text/plain": [
       "  period_begin  median_sale_price  median_list_price  median_ppsf  \\\n",
       "0   2019-01-31          235325.00           219900.0   110.096646   \n",
       "1   2019-02-28           93318.75           201175.0    76.666452   \n",
       "2   2019-03-31          229050.00           233550.0   105.365398   \n",
       "3   2019-04-30          238625.00           280950.0   126.764886   \n",
       "4   2019-05-31          292200.00           272497.5   100.634255   \n",
       "\n",
       "   median_list_ppsf  homes_sold  pending_sales  new_listings  inventory  \\\n",
       "0        151.237964         1.5            2.0           3.0        8.5   \n",
       "1         87.459703         2.5            2.0           5.5       11.0   \n",
       "2        107.310756         2.5            3.0           5.0       11.5   \n",
       "3        111.629672         2.5            4.0           7.0       13.0   \n",
       "4        114.556379         5.0            3.0           5.0       13.0   \n",
       "\n",
       "   months_of_supply  median_dom  avg_sale_to_list  sold_above_list  \\\n",
       "0              6.25        82.0          0.997393         0.000000   \n",
       "1              4.50        34.0          0.954067         0.000000   \n",
       "2              5.10        71.0          0.990710         0.666667   \n",
       "3              5.35        75.0          0.974234         0.000000   \n",
       "4              2.75        74.5          0.976480         0.333333   \n",
       "\n",
       "   price_drops  off_market_in_two_weeks  remote_work_share  \\\n",
       "0     0.291667                 0.000000               0.00   \n",
       "1     0.091667                 0.833333               0.47   \n",
       "2     0.195833                 0.500000               0.86   \n",
       "3     0.392857                 0.533333               1.09   \n",
       "4     0.422619                 0.166667               1.13   \n",
       "\n",
       "   asset_value_momentum State        City              Property_Type  \n",
       "0              0.000000    WV  Morgantown  Single Family Residential  \n",
       "1             -0.303644    WV  Morgantown  Single Family Residential  \n",
       "2              0.374335    WV  Morgantown  Single Family Residential  \n",
       "3              0.203098    WV  Morgantown  Single Family Residential  \n",
       "4             -0.206135    WV  Morgantown  Single Family Residential  "
      ]
     },
     "execution_count": 44,
     "metadata": {},
     "output_type": "execute_result"
    }
   ],
   "source": [
    "import seaborn as sns\n",
    "\n",
    "# Initialize the HousingData class\n",
    "housing_data = HousingData('housing')  # Update the path if necessary\n",
    "\n",
    "# Load the residential property data\n",
    "residential_data = housing_data.load_data(is_commercial=False)\n",
    "\n",
    "residential_data.head()"
   ]
  },
  {
   "cell_type": "code",
   "execution_count": 48,
   "metadata": {},
   "outputs": [],
   "source": [
    "residential_data = residential_data[residential_data.Property_Type != 'Mall']\n",
    "residential_data = residential_data[residential_data.Property_Type != 'Office']\n",
    "residential_data = residential_data[residential_data.Property_Type != 'Industrial']"
   ]
  },
  {
   "cell_type": "code",
   "execution_count": 51,
   "metadata": {},
   "outputs": [],
   "source": [
    "residential_data.to_csv('residential_dataset.csv')"
   ]
  },
  {
   "cell_type": "code",
   "execution_count": 52,
   "metadata": {},
   "outputs": [
    {
     "data": {
      "text/html": [
       "<div>\n",
       "<style scoped>\n",
       "    .dataframe tbody tr th:only-of-type {\n",
       "        vertical-align: middle;\n",
       "    }\n",
       "\n",
       "    .dataframe tbody tr th {\n",
       "        vertical-align: top;\n",
       "    }\n",
       "\n",
       "    .dataframe thead th {\n",
       "        text-align: right;\n",
       "    }\n",
       "</style>\n",
       "<table border=\"1\" class=\"dataframe\">\n",
       "  <thead>\n",
       "    <tr style=\"text-align: right;\">\n",
       "      <th></th>\n",
       "      <th>Missing Values</th>\n",
       "      <th>Percentage</th>\n",
       "    </tr>\n",
       "  </thead>\n",
       "  <tbody>\n",
       "    <tr>\n",
       "      <th>median_sale_price</th>\n",
       "      <td>26807</td>\n",
       "      <td>13.330913</td>\n",
       "    </tr>\n",
       "    <tr>\n",
       "      <th>median_list_price</th>\n",
       "      <td>35970</td>\n",
       "      <td>17.887602</td>\n",
       "    </tr>\n",
       "    <tr>\n",
       "      <th>median_ppsf</th>\n",
       "      <td>27830</td>\n",
       "      <td>13.839643</td>\n",
       "    </tr>\n",
       "    <tr>\n",
       "      <th>median_list_ppsf</th>\n",
       "      <td>35971</td>\n",
       "      <td>17.888099</td>\n",
       "    </tr>\n",
       "    <tr>\n",
       "      <th>homes_sold</th>\n",
       "      <td>26807</td>\n",
       "      <td>13.330913</td>\n",
       "    </tr>\n",
       "    <tr>\n",
       "      <th>pending_sales</th>\n",
       "      <td>38838</td>\n",
       "      <td>19.313836</td>\n",
       "    </tr>\n",
       "    <tr>\n",
       "      <th>new_listings</th>\n",
       "      <td>36198</td>\n",
       "      <td>18.000985</td>\n",
       "    </tr>\n",
       "    <tr>\n",
       "      <th>inventory</th>\n",
       "      <td>33748</td>\n",
       "      <td>16.782619</td>\n",
       "    </tr>\n",
       "    <tr>\n",
       "      <th>months_of_supply</th>\n",
       "      <td>32298</td>\n",
       "      <td>16.061545</td>\n",
       "    </tr>\n",
       "    <tr>\n",
       "      <th>median_dom</th>\n",
       "      <td>27521</td>\n",
       "      <td>13.685980</td>\n",
       "    </tr>\n",
       "    <tr>\n",
       "      <th>avg_sale_to_list</th>\n",
       "      <td>31197</td>\n",
       "      <td>15.514026</td>\n",
       "    </tr>\n",
       "    <tr>\n",
       "      <th>sold_above_list</th>\n",
       "      <td>28030</td>\n",
       "      <td>13.939102</td>\n",
       "    </tr>\n",
       "    <tr>\n",
       "      <th>price_drops</th>\n",
       "      <td>67565</td>\n",
       "      <td>33.599550</td>\n",
       "    </tr>\n",
       "    <tr>\n",
       "      <th>off_market_in_two_weeks</th>\n",
       "      <td>35958</td>\n",
       "      <td>17.881635</td>\n",
       "    </tr>\n",
       "    <tr>\n",
       "      <th>remote_work_share</th>\n",
       "      <td>2458</td>\n",
       "      <td>1.222344</td>\n",
       "    </tr>\n",
       "    <tr>\n",
       "      <th>asset_value_momentum</th>\n",
       "      <td>6197</td>\n",
       "      <td>3.081720</td>\n",
       "    </tr>\n",
       "  </tbody>\n",
       "</table>\n",
       "</div>"
      ],
      "text/plain": [
       "                         Missing Values  Percentage\n",
       "median_sale_price                 26807   13.330913\n",
       "median_list_price                 35970   17.887602\n",
       "median_ppsf                       27830   13.839643\n",
       "median_list_ppsf                  35971   17.888099\n",
       "homes_sold                        26807   13.330913\n",
       "pending_sales                     38838   19.313836\n",
       "new_listings                      36198   18.000985\n",
       "inventory                         33748   16.782619\n",
       "months_of_supply                  32298   16.061545\n",
       "median_dom                        27521   13.685980\n",
       "avg_sale_to_list                  31197   15.514026\n",
       "sold_above_list                   28030   13.939102\n",
       "price_drops                       67565   33.599550\n",
       "off_market_in_two_weeks           35958   17.881635\n",
       "remote_work_share                  2458    1.222344\n",
       "asset_value_momentum               6197    3.081720"
      ]
     },
     "execution_count": 52,
     "metadata": {},
     "output_type": "execute_result"
    }
   ],
   "source": [
    "# Calculate the number of missing values in each column\n",
    "missing_values = residential_data.isnull().sum()\n",
    "\n",
    "# Calculate the percentage of missing values\n",
    "missing_percentage = (residential_data.isnull().sum() / len(residential_data)) * 100\n",
    "\n",
    "# Combine the counts and percentages into a DataFrame\n",
    "missing_data_df = pd.DataFrame({'Missing Values': missing_values, 'Percentage': missing_percentage})\n",
    "\n",
    "missing_data_df[missing_data_df['Missing Values'] > 0]\n"
   ]
  },
  {
   "cell_type": "code",
   "execution_count": 54,
   "metadata": {},
   "outputs": [
    {
     "data": {
      "image/png": "[encoded data removed]",
      "text/plain": [
       "<Figure size 864x432 with 1 Axes>"
      ]
     },
     "metadata": {
      "needs_background": "light"
     },
     "output_type": "display_data"
    }
   ],
   "source": [
    "# Visualize missing values as a heatmap\n",
    "plt.figure(figsize=(12, 6))\n",
    "sns.heatmap(residential_data.isnull(), cbar=False, cmap='viridis')\n",
    "plt.title('Missing Data Heatmap - Residential Properties')\n",
    "plt.show()"
   ]
  },
  {
   "cell_type": "code",
   "execution_count": 55,
   "metadata": {},
   "outputs": [
    {
     "name": "stdout",
     "output_type": "stream",
     "text": [
      "           City  Percentage Missing median_ppsf\n",
      "0       Abilene                       28.947368\n",
      "1       Addison                       20.175439\n",
      "2         Aiken                       26.315789\n",
      "3         Akron                       10.526316\n",
      "4       Alameda                        3.070175\n",
      "..          ...                             ...\n",
      "825     Yonkers                        8.333333\n",
      "826        York                        0.438596\n",
      "827  Youngstown                       30.263158\n",
      "828   Ypsilanti                        5.263158\n",
      "829        Yuma                       23.684211\n",
      "\n",
      "[830 rows x 2 columns]\n",
      "\n",
      "Statistics Description of Missing median_ppsf Percentages:\n",
      "count    830.000000\n",
      "mean      15.154282\n",
      "std       14.741184\n",
      "min        0.000000\n",
      "25%        2.631579\n",
      "50%       11.842105\n",
      "75%       24.122807\n",
      "max      100.000000\n",
      "Name: Percentage Missing median_ppsf, dtype: float64\n"
     ]
    }
   ],
   "source": [
    "# Group by city and calculate the percentage of missing median_ppsf values for each city\n",
    "percentage_missing_ppsf_by_city = residential_data.groupby('City')['median_ppsf'].apply(\n",
    "    lambda x: (x.isnull().sum() / len(x)) * 100\n",
    ")\n",
    "\n",
    "# Convert to DataFrame for better visualization and handling\n",
    "percentage_missing_ppsf_df = percentage_missing_ppsf_by_city.reset_index(name='Percentage Missing median_ppsf')\n",
    "\n",
    "# Display the percentages for each city\n",
    "print(percentage_missing_ppsf_df)\n",
    "\n",
    "# Describe the statistics of these percentages\n",
    "stats_description = percentage_missing_ppsf_df['Percentage Missing median_ppsf'].describe()\n",
    "print(\"\\nStatistics Description of Missing median_ppsf Percentages:\")\n",
    "print(stats_description)\n"
   ]
  },
  {
   "cell_type": "code",
   "execution_count": 59,
   "metadata": {},
   "outputs": [
    {
     "name": "stdout",
     "output_type": "stream",
     "text": [
      "Number of cities with missing 'median_ppsf' percentage higher than the mean: 365\n"
     ]
    }
   ],
   "source": [
    "# Calculate the mean percentage of missing 'median_ppsf' values\n",
    "mean_percentage_missing_ppsf = percentage_missing_ppsf_df['Percentage Missing median_ppsf'].mean()\n",
    "\n",
    "# Count cities where percentage missing 'median_ppsf' is greater than the mean\n",
    "num_cities_above_mean = (percentage_missing_ppsf_df['Percentage Missing median_ppsf'] > mean_percentage_missing_ppsf).sum()\n",
    "\n",
    "# Print the result\n",
    "print(f\"Number of cities with missing 'median_ppsf' percentage higher than the mean: {num_cities_above_mean}\")\n"
   ]
  },
  {
   "cell_type": "code",
   "execution_count": 60,
   "metadata": {},
   "outputs": [
    {
     "name": "stdout",
     "output_type": "stream",
     "text": [
      "            City  Percentage Missing median_ppsf\n",
      "0        Abilene                       28.947368\n",
      "1        Addison                       20.175439\n",
      "2          Aiken                       26.315789\n",
      "8          Allen                       30.701754\n",
      "9      Allentown                       15.789474\n",
      "..           ...                             ...\n",
      "816  Winter Park                       16.228070\n",
      "820     Woodland                       23.684211\n",
      "824       Yakima                       20.183486\n",
      "827   Youngstown                       30.263158\n",
      "829         Yuma                       23.684211\n",
      "\n",
      "[365 rows x 2 columns]\n"
     ]
    }
   ],
   "source": [
    "# Assuming percentage_missing_ppsf_df is your DataFrame from the previous example\n",
    "# Calculate the mean percentage of missing 'median_ppsf' values\n",
    "mean_percentage_missing_ppsf = percentage_missing_ppsf_df['Percentage Missing median_ppsf'].mean()\n",
    "\n",
    "# Filter cities where percentage missing 'median_ppsf' is greater than the mean\n",
    "cities_above_mean = percentage_missing_ppsf_df[percentage_missing_ppsf_df['Percentage Missing median_ppsf'] > mean_percentage_missing_ppsf]\n",
    "\n",
    "# Print the filtered DataFrame\n",
    "print(cities_above_mean)\n"
   ]
  },
  {
   "cell_type": "code",
   "execution_count": 62,
   "metadata": {},
   "outputs": [],
   "source": [
    "cities_above_mean.to_csv('cities_above_mean.csv')"
   ]
  },
  {
   "cell_type": "code",
   "execution_count": 61,
   "metadata": {},
   "outputs": [
    {
     "data": {
      "image/png": "[encoded data removed]",
      "text/plain": [
       "<Figure size 720x432 with 1 Axes>"
      ]
     },
     "metadata": {
      "needs_background": "light"
     },
     "output_type": "display_data"
    },
    {
     "data": {
      "image/png": "[encoded data removed]",
      "text/plain": [
       "<Figure size 720x432 with 1 Axes>"
      ]
     },
     "metadata": {
      "needs_background": "light"
     },
     "output_type": "display_data"
    }
   ],
   "source": [
    "import matplotlib.pyplot as plt\n",
    "\n",
    "# Calculate the mean percentage of missing 'median_ppsf' values\n",
    "mean_percentage_missing_ppsf = percentage_missing_ppsf_df['Percentage Missing median_ppsf'].mean()\n",
    "\n",
    "# Filter cities based on above or below mean\n",
    "cities_above_mean = percentage_missing_ppsf_df[percentage_missing_ppsf_df['Percentage Missing median_ppsf'] > mean_percentage_missing_ppsf]\n",
    "cities_below_mean = percentage_missing_ppsf_df[percentage_missing_ppsf_df['Percentage Missing median_ppsf'] <= mean_percentage_missing_ppsf]\n",
    "\n",
    "# Plot for cities above the mean\n",
    "plt.figure(figsize=(10, 6))\n",
    "plt.hist(cities_above_mean['Percentage Missing median_ppsf'], bins=20, color='blue', alpha=0.7)\n",
    "plt.title('Distribution of Missing median_ppsf Percentages (Above Mean)')\n",
    "plt.xlabel('Percentage Missing median_ppsf')\n",
    "plt.ylabel('Number of Cities')\n",
    "plt.axvline(mean_percentage_missing_ppsf, color='red', linestyle='dashed', linewidth=2)\n",
    "plt.text(mean_percentage_missing_ppsf + 1, 5, f'Mean: {mean_percentage_missing_ppsf:.2f}', color='red')\n",
    "plt.show()\n",
    "\n",
    "# Plot for cities below the mean\n",
    "plt.figure(figsize=(10, 6))\n",
    "plt.hist(cities_below_mean['Percentage Missing median_ppsf'], bins=20, color='green', alpha=0.7)\n",
    "plt.title('Distribution of Missing median_ppsf Percentages (Below Mean)')\n",
    "plt.xlabel('Percentage Missing median_ppsf')\n",
    "plt.ylabel('Number of Cities')\n",
    "plt.axvline(mean_percentage_missing_ppsf, color='red', linestyle='dashed', linewidth=2)\n",
    "plt.text(mean_percentage_missing_ppsf + 1, 5, f'Mean: {mean_percentage_missing_ppsf:.2f}', color='red')\n",
    "plt.show()\n"
   ]
  },
  {
   "cell_type": "code",
   "execution_count": 63,
   "metadata": {},
   "outputs": [
    {
     "name": "stderr",
     "output_type": "stream",
     "text": [
      "/tmp/ipykernel_1418295/952080597.py:10: SettingWithCopyWarning: \n",
      "A value is trying to be set on a copy of a slice from a DataFrame.\n",
      "Try using .loc[row_indexer,col_indexer] = value instead\n",
      "\n",
      "See the caveats in the documentation: https://pandas.pydata.org/pandas-docs/stable/user_guide/indexing.html#returning-a-view-versus-a-copy\n",
      "  selected_data['median_ppsf'] = selected_data['median_ppsf'].fillna(selected_data['median_ppsf'].mean())\n"
     ]
    }
   ],
   "source": [
    "# Filter cities with less than 25% missing 'median_ppsf' values\n",
    "filtered_data = percentage_missing_ppsf_df[percentage_missing_ppsf_df['Percentage Missing median_ppsf'] < 25]\n",
    "selected_cities = filtered_data['City']\n",
    "\n",
    "# Select data for these cities\n",
    "selected_data = residential_data[residential_data['City'].isin(selected_cities)]\n",
    "\n",
    "# Choose an imputation strategy (mean or median)\n",
    "# For mean imputation\n",
    "selected_data['median_ppsf'] = selected_data['median_ppsf'].fillna(selected_data['median_ppsf'].mean())\n"
   ]
  },
  {
   "cell_type": "code",
   "execution_count": 68,
   "metadata": {},
   "outputs": [
    {
     "name": "stderr",
     "output_type": "stream",
     "text": [
      "Iterating through cities:   0%|          | 0/640 [00:00<?, ?it/s]"
     ]
    },
    {
     "name": "stderr",
     "output_type": "stream",
     "text": [
      "/usr/lib/python3/dist-packages/pandas/core/indexing.py:1773: SettingWithCopyWarning: \n",
      "A value is trying to be set on a copy of a slice from a DataFrame.\n",
      "Try using .loc[row_indexer,col_indexer] = value instead\n",
      "\n",
      "See the caveats in the documentation: https://pandas.pydata.org/pandas-docs/stable/user_guide/indexing.html#returning-a-view-versus-a-copy\n",
      "  self._setitem_single_column(ilocs[0], value, pi)\n",
      "Iterating through cities: 100%|██████████| 640/640 [01:52<00:00,  5.71it/s]\n"
     ]
    }
   ],
   "source": [
    "from tqdm import tqdm \n",
    "# Filter cities with less than 25% missing 'median_ppsf' values\n",
    "filtered_data = percentage_missing_ppsf_df[percentage_missing_ppsf_df['Percentage Missing median_ppsf'] < 25]\n",
    "selected_cities = filtered_data['City']\n",
    "\n",
    "# Select data for these cities\n",
    "selected_data = residential_data[residential_data['City'].isin(selected_cities)]\n",
    "\n",
    "# Apply filling per city and property type\n",
    "for city in tqdm(selected_cities, desc='Iterating through cities'):\n",
    "    for property_type in selected_data['Property_Type'].unique():\n",
    "        # Filter data for specific city and property type\n",
    "        city_type_data = selected_data[(selected_data['City'] == city) & (selected_data['Property_Type'] == property_type)]\n",
    "        \n",
    "        # Calculate mean or median for the specific city and property type\n",
    "        fill_value = city_type_data['median_ppsf'].mean()  # or median()\n",
    "        \n",
    "        # Apply the calculated mean/median to fill missing values\n",
    "        selected_data.loc[(selected_data['City'] == city) & (selected_data['Property_Type'] == property_type), 'median_ppsf'] = city_type_data['median_ppsf'].fillna(fill_value)\n"
   ]
  },
  {
   "cell_type": "code",
   "execution_count": 79,
   "metadata": {},
   "outputs": [],
   "source": [
    "def calculate_momentum(group):\n",
    "    # Sort the group by the time period\n",
    "    group = group.sort_values('period_begin')\n",
    "    \n",
    "    # Calculate the percentage change\n",
    "    group['asset_value_momentum'] = group['median_ppsf'].pct_change()\n",
    "    \n",
    "    # Set the first value of the calculated momentum to 0 or NaN\n",
    "    group['asset_value_momentum'].iloc[0] = 0\n",
    "\n",
    "    return group\n",
    "\n",
    "# Group by city and property type, then apply the momentum calculation\n",
    "selected_data = selected_data.groupby(['City', 'Property_Type']).apply(calculate_momentum)\n",
    "\n",
    "# Reset the index if needed\n",
    "selected_data = selected_data.reset_index(drop=True)\n"
   ]
  },
  {
   "cell_type": "code",
   "execution_count": 80,
   "metadata": {},
   "outputs": [],
   "source": [
    "selected_data.to_csv('selected_data.csv')"
   ]
  },
  {
   "cell_type": "code",
   "execution_count": 81,
   "metadata": {},
   "outputs": [],
   "source": [
    "# Dropping the 'median_ppsf' and 'median_list_ppsf' columns from the DataFrame\n",
    "selected_data = selected_data.drop(columns=['median_ppsf', 'median_list_ppsf'])"
   ]
  },
  {
   "cell_type": "code",
   "execution_count": 82,
   "metadata": {},
   "outputs": [
    {
     "name": "stdout",
     "output_type": "stream",
     "text": [
      "           City              Property_Type  Zero Momentum Percentage\n",
      "0       Addison                      Condo                  1.754386\n",
      "1       Addison    Multi-Family (2-4 Unit)                 63.157895\n",
      "2       Addison  Single Family Residential                  1.754386\n",
      "3       Addison                  Townhouse                  1.754386\n",
      "4         Akron                      Condo                  1.754386\n",
      "...         ...                        ...                       ...\n",
      "2483  Ypsilanti                      Condo                  1.754386\n",
      "2484  Ypsilanti    Multi-Family (2-4 Unit)                  3.508772\n",
      "2485  Ypsilanti  Single Family Residential                  1.754386\n",
      "2486       Yuma    Multi-Family (2-4 Unit)                 24.561404\n",
      "2487       Yuma  Single Family Residential                  1.754386\n",
      "\n",
      "[2488 rows x 3 columns]\n",
      "\n",
      "Statistics Description of Zero Momentum Percentages:\n",
      "count    2488.000000\n",
      "mean       11.826103\n",
      "std        20.814349\n",
      "min         1.754386\n",
      "25%         1.754386\n",
      "50%         1.754386\n",
      "75%         6.593096\n",
      "max       100.000000\n",
      "Name: Zero Momentum Percentage, dtype: float64\n"
     ]
    }
   ],
   "source": [
    "def calculate_zero_momentum_percentage(group):\n",
    "    zero_count = (group['asset_value_momentum'] == 0).sum()\n",
    "    total_count = len(group)\n",
    "    return (zero_count / total_count) * 100\n",
    "\n",
    "# Group by city and property type and calculate the percentage\n",
    "zero_momentum_percentage = selected_data.groupby(['City', 'Property_Type']).apply(calculate_zero_momentum_percentage).reset_index(name='Zero Momentum Percentage')\n",
    "\n",
    "# Display the result\n",
    "print(zero_momentum_percentage)\n",
    "\n",
    "# Descriptive statistics\n",
    "stats_description = zero_momentum_percentage['Zero Momentum Percentage'].describe()\n",
    "print(\"\\nStatistics Description of Zero Momentum Percentages:\")\n",
    "print(stats_description)\n"
   ]
  },
  {
   "cell_type": "code",
   "execution_count": 83,
   "metadata": {},
   "outputs": [],
   "source": [
    "zero_momentum_percentage.to_csv('zero_momentum_percentage.csv')"
   ]
  },
  {
   "cell_type": "code",
   "execution_count": 84,
   "metadata": {},
   "outputs": [
    {
     "name": "stdout",
     "output_type": "stream",
     "text": [
      "Property_Type\n",
      "Condo                         8.156769\n",
      "Multi-Family (2-4 Unit)      19.901035\n",
      "Single Family Residential     6.896710\n",
      "Townhouse                    12.733874\n",
      "Name: Zero Momentum Percentage, dtype: float64\n"
     ]
    }
   ],
   "source": [
    "def calculate_zero_momentum_percentage(group):\n",
    "    zero_count = (group['asset_value_momentum'] == 0).sum()\n",
    "    total_count = len(group)\n",
    "    return (zero_count / total_count) * 100\n",
    "\n",
    "# Group by city and property type and calculate the percentage\n",
    "zero_momentum_by_city_property = selected_data.groupby(['City', 'Property_Type']).apply(calculate_zero_momentum_percentage).reset_index(name='Zero Momentum Percentage')\n",
    "\n",
    "# Group by property type and calculate the mean percentage\n",
    "mean_zero_momentum_by_property = zero_momentum_by_city_property.groupby('Property_Type')['Zero Momentum Percentage'].mean()\n",
    "\n",
    "# Display the result\n",
    "print(mean_zero_momentum_by_property)\n"
   ]
  },
  {
   "cell_type": "code",
   "execution_count": 85,
   "metadata": {},
   "outputs": [
    {
     "name": "stdout",
     "output_type": "stream",
     "text": [
      "Percentage of dataframe removed: 19.29%\n",
      "\n",
      "Updated Mean Zero Momentum Percentages by Property Type:\n",
      "Property_Type\n",
      "Condo                        2.053887\n",
      "Multi-Family (2-4 Unit)      4.742175\n",
      "Single Family Residential    1.770331\n",
      "Townhouse                    2.455347\n",
      "Name: Zero Momentum Percentage, dtype: float64\n"
     ]
    }
   ],
   "source": [
    "# Step 1 & 2: Remove rows where Zero Momentum Percentage exceeds the property type mean\n",
    "filtered_data = zero_momentum_by_city_property.apply(\n",
    "    lambda row: row['Zero Momentum Percentage'] <= mean_zero_momentum_by_property[row['Property_Type']], axis=1\n",
    ")\n",
    "reduced_df = zero_momentum_by_city_property[filtered_data]\n",
    "\n",
    "# Step 3: Calculate the percentage of the dataframe removed\n",
    "original_count = len(zero_momentum_by_city_property)\n",
    "reduced_count = len(reduced_df)\n",
    "percentage_removed = ((original_count - reduced_count) / original_count) * 100\n",
    "print(f\"Percentage of dataframe removed: {percentage_removed:.2f}%\")\n",
    "\n",
    "# Step 4: Recalculate mean_zero_momentum_by_property\n",
    "mean_zero_momentum_by_property_updated = reduced_df.groupby('Property_Type')['Zero Momentum Percentage'].mean()\n",
    "print(\"\\nUpdated Mean Zero Momentum Percentages by Property Type:\")\n",
    "print(mean_zero_momentum_by_property_updated)\n"
   ]
  },
  {
   "cell_type": "code",
   "execution_count": 90,
   "metadata": {},
   "outputs": [
    {
     "data": {
      "text/plain": [
       "0     True\n",
       "1    False\n",
       "2     True\n",
       "3     True\n",
       "4     True\n",
       "dtype: bool"
      ]
     },
     "execution_count": 90,
     "metadata": {},
     "output_type": "execute_result"
    }
   ],
   "source": [
    "# Merge the reduced_df with the original selected_data dataframe\n",
    "filtered_selected_data = pd.merge(selected_data, reduced_df[['City', 'Property_Type']], on=['City', 'Property_Type'], how='inner')"
   ]
  },
  {
   "cell_type": "code",
   "execution_count": 1,
   "metadata": {},
   "outputs": [
    {
     "name": "stdout",
     "output_type": "stream",
     "text": [
      "Loading residential data...\n",
      "Initial residential data rows: 209046\n",
      "Rows after excluding certain property types: 201089\n",
      "Rows removed during exclusion: 7957\n",
      "Calculating missing value percentages and filtering cities...\n",
      "Rows after filtering cities: 159727\n",
      "Rows removed during city filter: 41362\n",
      "Filling missing values and calculating asset value momentum...\n"
     ]
    },
    {
     "name": "stderr",
     "output_type": "stream",
     "text": [
      "Filling missing values per city and property type: 100%|██████████| 640/640 [01:55<00:00,  5.56it/s]\n"
     ]
    },
    {
     "name": "stdout",
     "output_type": "stream",
     "text": [
      "Filtering data based on zero momentum percentage...\n",
      "Final rows after all processing: 117128\n",
      "Total rows removed during processing: 91918\n"
     ]
    }
   ],
   "source": [
    "from src.preprocessing.housing_data import HousingData\n",
    "directory_path = 'housing' \n",
    "housing_data = HousingData(directory_path)\n",
    "\n",
    "# Load the processed residential data\n",
    "filtered_selected_data = housing_data.load_residential_data()\n"
   ]
  },
  {
   "cell_type": "code",
   "execution_count": 5,
   "metadata": {},
   "outputs": [
    {
     "data": {
      "text/html": [
       "<div>\n",
       "<style scoped>\n",
       "    .dataframe tbody tr th:only-of-type {\n",
       "        vertical-align: middle;\n",
       "    }\n",
       "\n",
       "    .dataframe tbody tr th {\n",
       "        vertical-align: top;\n",
       "    }\n",
       "\n",
       "    .dataframe thead th {\n",
       "        text-align: right;\n",
       "    }\n",
       "</style>\n",
       "<table border=\"1\" class=\"dataframe\">\n",
       "  <thead>\n",
       "    <tr style=\"text-align: right;\">\n",
       "      <th></th>\n",
       "      <th>period_begin</th>\n",
       "      <th>occupancy</th>\n",
       "      <th>age_median</th>\n",
       "      <th>airport_distance</th>\n",
       "      <th>airport_volume</th>\n",
       "      <th>railroad_distance</th>\n",
       "      <th>asset_value_momentum</th>\n",
       "      <th>rank_desirability</th>\n",
       "      <th>rank_fiscal_health_tax</th>\n",
       "      <th>CPI</th>\n",
       "      <th>...</th>\n",
       "      <th>Male_15_64</th>\n",
       "      <th>Female_15_64</th>\n",
       "      <th>Prop_further_educ</th>\n",
       "      <th>Pop_growth</th>\n",
       "      <th>Real_GDP_growth</th>\n",
       "      <th>Unemp_growth</th>\n",
       "      <th>remote_work_share</th>\n",
       "      <th>State</th>\n",
       "      <th>City</th>\n",
       "      <th>Property_Type</th>\n",
       "    </tr>\n",
       "  </thead>\n",
       "  <tbody>\n",
       "    <tr>\n",
       "      <th>0</th>\n",
       "      <td>2019-01-31</td>\n",
       "      <td>0.870596</td>\n",
       "      <td>34.561672</td>\n",
       "      <td>11.249427</td>\n",
       "      <td>134233128.0</td>\n",
       "      <td>1.682482</td>\n",
       "      <td>0.020171</td>\n",
       "      <td>49.0</td>\n",
       "      <td>31.0</td>\n",
       "      <td>114.42</td>\n",
       "      <td>...</td>\n",
       "      <td>0.84</td>\n",
       "      <td>0.88</td>\n",
       "      <td>61.96</td>\n",
       "      <td>1.07</td>\n",
       "      <td>2.67</td>\n",
       "      <td>-6.25</td>\n",
       "      <td>5.86</td>\n",
       "      <td>IN</td>\n",
       "      <td>Indianapolis</td>\n",
       "      <td>Office</td>\n",
       "    </tr>\n",
       "    <tr>\n",
       "      <th>1</th>\n",
       "      <td>2019-02-28</td>\n",
       "      <td>0.875000</td>\n",
       "      <td>34.561672</td>\n",
       "      <td>11.249427</td>\n",
       "      <td>134233128.0</td>\n",
       "      <td>1.682482</td>\n",
       "      <td>0.020171</td>\n",
       "      <td>49.0</td>\n",
       "      <td>47.0</td>\n",
       "      <td>114.42</td>\n",
       "      <td>...</td>\n",
       "      <td>0.84</td>\n",
       "      <td>0.88</td>\n",
       "      <td>61.96</td>\n",
       "      <td>1.07</td>\n",
       "      <td>2.67</td>\n",
       "      <td>-6.25</td>\n",
       "      <td>5.72</td>\n",
       "      <td>IN</td>\n",
       "      <td>Indianapolis</td>\n",
       "      <td>Office</td>\n",
       "    </tr>\n",
       "    <tr>\n",
       "      <th>2</th>\n",
       "      <td>2019-03-31</td>\n",
       "      <td>0.875000</td>\n",
       "      <td>34.561672</td>\n",
       "      <td>11.246551</td>\n",
       "      <td>134233128.0</td>\n",
       "      <td>1.680030</td>\n",
       "      <td>0.020171</td>\n",
       "      <td>49.0</td>\n",
       "      <td>47.0</td>\n",
       "      <td>114.42</td>\n",
       "      <td>...</td>\n",
       "      <td>0.84</td>\n",
       "      <td>0.88</td>\n",
       "      <td>61.96</td>\n",
       "      <td>1.07</td>\n",
       "      <td>2.67</td>\n",
       "      <td>-6.25</td>\n",
       "      <td>4.09</td>\n",
       "      <td>IN</td>\n",
       "      <td>Indianapolis</td>\n",
       "      <td>Office</td>\n",
       "    </tr>\n",
       "    <tr>\n",
       "      <th>3</th>\n",
       "      <td>2019-04-30</td>\n",
       "      <td>0.875000</td>\n",
       "      <td>34.561672</td>\n",
       "      <td>11.246551</td>\n",
       "      <td>134233128.0</td>\n",
       "      <td>1.680030</td>\n",
       "      <td>0.021114</td>\n",
       "      <td>49.0</td>\n",
       "      <td>47.0</td>\n",
       "      <td>114.42</td>\n",
       "      <td>...</td>\n",
       "      <td>0.84</td>\n",
       "      <td>0.88</td>\n",
       "      <td>61.96</td>\n",
       "      <td>1.07</td>\n",
       "      <td>2.67</td>\n",
       "      <td>-6.25</td>\n",
       "      <td>4.98</td>\n",
       "      <td>IN</td>\n",
       "      <td>Indianapolis</td>\n",
       "      <td>Office</td>\n",
       "    </tr>\n",
       "    <tr>\n",
       "      <th>4</th>\n",
       "      <td>2019-05-31</td>\n",
       "      <td>0.875000</td>\n",
       "      <td>34.561672</td>\n",
       "      <td>11.246551</td>\n",
       "      <td>134233128.0</td>\n",
       "      <td>1.680030</td>\n",
       "      <td>0.021114</td>\n",
       "      <td>49.0</td>\n",
       "      <td>47.0</td>\n",
       "      <td>114.42</td>\n",
       "      <td>...</td>\n",
       "      <td>0.84</td>\n",
       "      <td>0.88</td>\n",
       "      <td>61.96</td>\n",
       "      <td>1.07</td>\n",
       "      <td>2.67</td>\n",
       "      <td>-6.25</td>\n",
       "      <td>4.93</td>\n",
       "      <td>IN</td>\n",
       "      <td>Indianapolis</td>\n",
       "      <td>Office</td>\n",
       "    </tr>\n",
       "  </tbody>\n",
       "</table>\n",
       "<p>5 rows × 31 columns</p>\n",
       "</div>"
      ],
      "text/plain": [
       "  period_begin  occupancy  age_median  airport_distance  airport_volume  \\\n",
       "0   2019-01-31   0.870596   34.561672         11.249427     134233128.0   \n",
       "1   2019-02-28   0.875000   34.561672         11.249427     134233128.0   \n",
       "2   2019-03-31   0.875000   34.561672         11.246551     134233128.0   \n",
       "3   2019-04-30   0.875000   34.561672         11.246551     134233128.0   \n",
       "4   2019-05-31   0.875000   34.561672         11.246551     134233128.0   \n",
       "\n",
       "   railroad_distance  asset_value_momentum  rank_desirability  \\\n",
       "0           1.682482              0.020171               49.0   \n",
       "1           1.682482              0.020171               49.0   \n",
       "2           1.680030              0.020171               49.0   \n",
       "3           1.680030              0.021114               49.0   \n",
       "4           1.680030              0.021114               49.0   \n",
       "\n",
       "   rank_fiscal_health_tax     CPI  ...  Male_15_64  Female_15_64  \\\n",
       "0                    31.0  114.42  ...        0.84          0.88   \n",
       "1                    47.0  114.42  ...        0.84          0.88   \n",
       "2                    47.0  114.42  ...        0.84          0.88   \n",
       "3                    47.0  114.42  ...        0.84          0.88   \n",
       "4                    47.0  114.42  ...        0.84          0.88   \n",
       "\n",
       "   Prop_further_educ  Pop_growth  Real_GDP_growth  Unemp_growth  \\\n",
       "0              61.96        1.07             2.67         -6.25   \n",
       "1              61.96        1.07             2.67         -6.25   \n",
       "2              61.96        1.07             2.67         -6.25   \n",
       "3              61.96        1.07             2.67         -6.25   \n",
       "4              61.96        1.07             2.67         -6.25   \n",
       "\n",
       "   remote_work_share  State          City  Property_Type  \n",
       "0               5.86     IN  Indianapolis         Office  \n",
       "1               5.72     IN  Indianapolis         Office  \n",
       "2               4.09     IN  Indianapolis         Office  \n",
       "3               4.98     IN  Indianapolis         Office  \n",
       "4               4.93     IN  Indianapolis         Office  \n",
       "\n",
       "[5 rows x 31 columns]"
      ]
     },
     "execution_count": 5,
     "metadata": {},
     "output_type": "execute_result"
    }
   ],
   "source": [
    "# Initialize the HousingData class\n",
    "housing_data = HousingData('housing')  # Update the path\n",
    "\n",
    "# Load the commercial property data\n",
    "commercial_data = housing_data.load_data(is_commercial=True)\n",
    "\n",
    "# Display the first few rows of the DataFrame\n",
    "commercial_data.head()"
   ]
  },
  {
   "cell_type": "code",
   "execution_count": null,
   "metadata": {},
   "outputs": [],
   "source": [
    "directory_path = 'filtered_housing'  # Replace with your actual data directory path\n",
    "housing_data = HousingData(directory_path)\n",
    "housing_data.save_filtered_data(commercial_data)"
   ]
  }
 ],
 "metadata": {
  "kernelspec": {
   "display_name": "Python 3",
   "language": "python",
   "name": "python3"
  },
  "language_info": {
   "codemirror_mode": {
    "name": "ipython",
    "version": 3
   },
   "file_extension": ".py",
   "mimetype": "text/x-python",
   "name": "python",
   "nbconvert_exporter": "python",
   "pygments_lexer": "ipython3",
   "version": "3.10.12"
  }
 },
 "nbformat": 4,
 "nbformat_minor": 2
}
